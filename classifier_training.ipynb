{
 "cells": [
  {
   "cell_type": "code",
   "execution_count": 1,
   "metadata": {},
   "outputs": [],
   "source": [
    "import numpy as np\n",
    "import pickle\n",
    "import random\n",
    "import re\n",
    "from sklearn import preprocessing\n",
    "from sklearn.svm import SVC"
   ]
  },
  {
   "cell_type": "code",
   "execution_count": 2,
   "metadata": {},
   "outputs": [],
   "source": [
    "data_dir = 'data'\n",
    "input_file_name = 'arxiv_abstracts_10000.txt'\n",
    "extensionless_input_file_name = input_file_name.split('.')[0]\n",
    "input_file_path = f'{data_dir}/{input_file_name}'\n",
    "\n",
    "concept_feature_path = f'{data_dir}/{extensionless_input_file_name}_econ_feature.txt'\n",
    "concept_score_path = f'{data_dir}/{extensionless_input_file_name}_score_list.bin'"
   ]
  },
  {
   "cell_type": "code",
   "execution_count": 3,
   "metadata": {},
   "outputs": [],
   "source": [
    "def get_feature(row):\n",
    "    try:\n",
    "        if len(row) != 2:\n",
    "            return\n",
    "        text = row[1].strip()\n",
    "        res = re.split('\\s+', text[1:-1].strip())\n",
    "        res = [float(r) for r in res]\n",
    "        if len(res) == 4:\n",
    "            return res\n",
    "    except Exception as e:\n",
    "        print(e)\n",
    "        \n",
    "feature_dict = {}\n",
    "with open(concept_feature_path) as fin:\n",
    "    for i, line in enumerate(fin):\n",
    "        row = line.split('\\t')\n",
    "        feature = get_feature(row)\n",
    "        if feature:\n",
    "            phrase = row[0]\n",
    "            feature_dict[phrase] = feature\n",
    "        else:\n",
    "            break"
   ]
  },
  {
   "cell_type": "code",
   "execution_count": 4,
   "metadata": {},
   "outputs": [],
   "source": [
    "positive_samples = pickle.load(open('data/positive_samples.pkl', 'rb'))"
   ]
  },
  {
   "cell_type": "code",
   "execution_count": 5,
   "metadata": {},
   "outputs": [],
   "source": [
    "SIZE = 1000\n",
    "\n",
    "neg_phrase = []\n",
    "start = random.randint(0, len(list(feature_dict.keys()))-SIZE)\n",
    "end = start + SIZE\n",
    "for phrase in list(feature_dict.keys())[start: end]:\n",
    "    if phrase in feature_dict:\n",
    "        if np.random.random() > 0.5: \n",
    "            neg_phrase.append(phrase)\n",
    "        if len(neg_phrase) > 1000:\n",
    "            break\n",
    "\n",
    "\n",
    "pos_phrase = []\n",
    "for phrase in positive_samples:\n",
    "        if phrase in feature_dict:\n",
    "            pos_phrase.append(phrase)\n",
    "        if len(pos_phrase) > SIZE:\n",
    "            break"
   ]
  },
  {
   "cell_type": "code",
   "execution_count": 6,
   "metadata": {},
   "outputs": [],
   "source": [
    "X = []\n",
    "y = []\n",
    "for phrase in pos_phrase:\n",
    "    X.append(feature_dict[phrase])\n",
    "    y.append(1)\n",
    "for phrase in neg_phrase:\n",
    "    X.append(feature_dict[phrase])\n",
    "    y.append(0)"
   ]
  },
  {
   "cell_type": "code",
   "execution_count": 7,
   "metadata": {},
   "outputs": [],
   "source": [
    "X_normalized = preprocessing.normalize(X, norm='l2')"
   ]
  },
  {
   "cell_type": "code",
   "execution_count": 8,
   "metadata": {},
   "outputs": [],
   "source": [
    "min_max_scaler = preprocessing.MinMaxScaler()\n",
    "X_train_minmax = min_max_scaler.fit_transform(X)"
   ]
  },
  {
   "cell_type": "code",
   "execution_count": 9,
   "metadata": {},
   "outputs": [
    {
     "data": {
      "text/plain": [
       "[[50.0, 0.56133494, 2.0, 0.0],\n",
       " [50.0, 0.62330029, 9.0, 0.0],\n",
       " [50.0, 0.53991033, 2.0, 0.0],\n",
       " [50.0, 0.63692987, 9.0, 0.0],\n",
       " [50.0, 0.54054098, 3.0, 0.0],\n",
       " [50.0, 0.62701565, 7.0, 0.0],\n",
       " [50.0, 0.59342183, 1.0, 0.0],\n",
       " [50.0, 0.6792788, 7.0, 0.0],\n",
       " [41.0, 0.52474151, 4.0, 0.0],\n",
       " [50.0, 0.53333279, 3.0, 0.0]]"
      ]
     },
     "metadata": {},
     "output_type": "display_data"
    },
    {
     "data": {
      "text/plain": [
       "array([[0.9991381 , 0.01121702, 0.03996552, 0.        ],\n",
       "       [0.98410926, 0.01226791, 0.17713967, 0.        ],\n",
       "       [0.9991428 , 0.01078895, 0.03996571, 0.        ],\n",
       "       [0.98410599, 0.01253613, 0.17713908, 0.        ],\n",
       "       [0.99814673, 0.01079078, 0.0598888 , 0.        ],\n",
       "       [0.99026538, 0.01241824, 0.13863715, 0.        ],\n",
       "       [0.99972968, 0.01186523, 0.01999459, 0.        ],\n",
       "       [0.99025212, 0.01345315, 0.1386353 , 0.        ],\n",
       "       [0.9951939 , 0.01273706, 0.09709209, 0.        ],\n",
       "       [0.99814827, 0.0106469 , 0.0598889 , 0.        ]])"
      ]
     },
     "metadata": {},
     "output_type": "display_data"
    },
    {
     "data": {
      "text/plain": [
       "array([[1.        , 0.68738037, 0.10526316, 1.        ],\n",
       "       [1.        , 0.76325978, 0.47368421, 1.        ],\n",
       "       [1.        , 0.66114495, 0.10526316, 1.        ],\n",
       "       [1.        , 0.77994982, 0.47368421, 1.        ],\n",
       "       [1.        , 0.66191721, 0.15789474, 1.        ],\n",
       "       [1.        , 0.76780941, 0.36842105, 1.        ],\n",
       "       [1.        , 0.72667223, 0.05263158, 1.        ],\n",
       "       [1.        , 0.83180803, 0.36842105, 1.        ],\n",
       "       [0.82      , 0.64257003, 0.21052632, 1.        ],\n",
       "       [1.        , 0.65309045, 0.15789474, 1.        ]])"
      ]
     },
     "metadata": {},
     "output_type": "display_data"
    }
   ],
   "source": [
    "display(X[:10])\n",
    "display(X_normalized[:10])\n",
    "display(X_train_minmax[:10])"
   ]
  },
  {
   "cell_type": "code",
   "execution_count": 10,
   "metadata": {},
   "outputs": [
    {
     "data": {
      "text/plain": [
       "SVC(kernel='linear', probability=True)"
      ]
     },
     "execution_count": 10,
     "metadata": {},
     "output_type": "execute_result"
    }
   ],
   "source": [
    "clf = SVC(probability=True, kernel='linear')\n",
    "clf.fit(X, y)"
   ]
  },
  {
   "cell_type": "code",
   "execution_count": 11,
   "metadata": {},
   "outputs": [
    {
     "name": "stdout",
     "output_type": "stream",
     "text": [
      "[[-8.42131976e-05 -1.39922808e+00  9.33853805e-03 -1.00409563e+00]]\n",
      "[-0.25061879]\n"
     ]
    }
   ],
   "source": [
    "print(clf.coef_)\n",
    "print(clf.intercept_)"
   ]
  },
  {
   "cell_type": "code",
   "execution_count": 12,
   "metadata": {},
   "outputs": [],
   "source": [
    "train_phrase = set(pos_phrase + neg_phrase)"
   ]
  },
  {
   "cell_type": "code",
   "execution_count": 13,
   "metadata": {},
   "outputs": [],
   "source": [
    "X_test_phrase = []\n",
    "X_test = []\n",
    "for phrase, feature in feature_dict.items():\n",
    "    if phrase not in train_phrase:\n",
    "        X_test_phrase.append(phrase)\n",
    "        X_test.append(feature)"
   ]
  },
  {
   "cell_type": "code",
   "execution_count": 14,
   "metadata": {},
   "outputs": [],
   "source": [
    "y_pred = clf.predict(X_test)\n",
    "y_score = clf.decision_function(X_test)\n",
    "y_prob = clf.predict_proba(X_test)"
   ]
  },
  {
   "cell_type": "code",
   "execution_count": 15,
   "metadata": {},
   "outputs": [],
   "source": [
    "pickle.dump(y_prob[:,1], open(concept_score_path, 'wb'))"
   ]
  }
 ],
 "metadata": {
  "kernelspec": {
   "display_name": "se",
   "language": "python",
   "name": "se"
  },
  "language_info": {
   "codemirror_mode": {
    "name": "ipython",
    "version": 3
   },
   "file_extension": ".py",
   "mimetype": "text/x-python",
   "name": "python",
   "nbconvert_exporter": "python",
   "pygments_lexer": "ipython3",
   "version": "3.8.5"
  }
 },
 "nbformat": 4,
 "nbformat_minor": 4
}
