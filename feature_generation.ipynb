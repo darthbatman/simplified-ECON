{
 "cells": [
  {
   "cell_type": "code",
   "execution_count": 1,
   "metadata": {},
   "outputs": [],
   "source": [
    "from gensim.models import Word2Vec\n",
    "import numpy as np\n",
    "import os\n",
    "import pickle\n",
    "import re"
   ]
  },
  {
   "cell_type": "code",
   "execution_count": 2,
   "metadata": {},
   "outputs": [],
   "source": [
    "re_concept_tagged = re.compile(\n",
    "    r\"<c>(?P<phrase>[^<]*)</c>\"\n",
    ")"
   ]
  },
  {
   "cell_type": "code",
   "execution_count": 3,
   "metadata": {},
   "outputs": [],
   "source": [
    "def to_oneWord(w):\n",
    "    return w.replace(' ', '_')"
   ]
  },
  {
   "cell_type": "code",
   "execution_count": 4,
   "metadata": {},
   "outputs": [],
   "source": [
    "def to_concept_gensim(w):\n",
    "    return '<c>%s</c>' % to_oneWord(w)"
   ]
  },
  {
   "cell_type": "code",
   "execution_count": 5,
   "metadata": {},
   "outputs": [],
   "source": [
    "def to_concept_natural(w):\n",
    "    # return w\n",
    "    return re.sub(r'</?c>', '', w).replace('_', ' ')"
   ]
  },
  {
   "cell_type": "code",
   "execution_count": 6,
   "metadata": {},
   "outputs": [],
   "source": [
    "def to_concept_natural_lower(w):\n",
    "    return to_concept_natural(w.lower())"
   ]
  },
  {
   "cell_type": "code",
   "execution_count": 7,
   "metadata": {},
   "outputs": [],
   "source": [
    "re_nonASCII = re.compile(r'[^\\x00-\\x7F]+')\n",
    "wiki_concept_set = set()\n",
    "\n",
    "AUTOPHRASE_PATH = '/Users/rishimasand/Documents/school/college/research/text_mining/AutoPhrase'\n",
    "\n",
    "# load target_word_set\n",
    "for l in open(os.path.join(AUTOPHRASE_PATH, 'data/EN/wiki_quality.txt')):\n",
    "    concept = l.strip()\n",
    "    if not re_nonASCII.search(l):\n",
    "        wiki_concept_set.add(to_concept_natural_lower(concept).replace(' ', '_'))\n",
    "\n",
    "target_concept_set = wiki_concept_set"
   ]
  },
  {
   "cell_type": "code",
   "execution_count": 8,
   "metadata": {},
   "outputs": [],
   "source": [
    "def computeFeatures(concept, model):\n",
    "    neighbor_word2sim = {to_concept_natural_lower(w): sim for w, sim in model.most_similar(concept, topn=50, restrict_vocab=None) if sim > 0.5}\n",
    "    if len(neighbor_word2sim) < 2:\n",
    "        return np.array([0, 0, 0, 0])\n",
    "\n",
    "    meaningfulness = len(neighbor_word2sim)\n",
    "    purity = np.mean(list(neighbor_word2sim.values()))\n",
    "\n",
    "    targetness = len(set(neighbor_word2sim.keys()) & target_concept_set)\n",
    "\n",
    "    completeness = -len([w for w in neighbor_word2sim.keys() if to_concept_natural_lower(concept) in w])\n",
    "\n",
    "    return np.array([meaningfulness, purity, targetness, completeness])"
   ]
  },
  {
   "cell_type": "code",
   "execution_count": 9,
   "metadata": {},
   "outputs": [
    {
     "name": "stderr",
     "output_type": "stream",
     "text": [
      "<ipython-input-8-c4013a66d8de>:2: DeprecationWarning: Call to deprecated `most_similar` (Method will be removed in 4.0.0, use self.wv.most_similar() instead).\n",
      "  neighbor_word2sim = {to_concept_natural_lower(w): sim for w, sim in model.most_similar(concept, topn=50, restrict_vocab=None) if sim > 0.5}\n"
     ]
    }
   ],
   "source": [
    "data_dir = 'data'\n",
    "input_file_name = 'arxiv_abstracts_10000.txt'\n",
    "extensionless_input_file_name = input_file_name.split('.')[0]\n",
    "input_file_path = f'{data_dir}/{input_file_name}'\n",
    "\n",
    "model_save_path = f'{data_dir}/{extensionless_input_file_name}_embedding.bin'\n",
    "concept_feature_bin_path = f'{data_dir}/{extensionless_input_file_name}_econ_feature.bin'\n",
    "concept_feature_path = f'{data_dir}/{extensionless_input_file_name}_econ_feature.txt'\n",
    "\n",
    "model = Word2Vec.load(model_save_path)\n",
    "\n",
    "concept_feature_dict = {}\n",
    "\n",
    "with open(concept_feature_path, 'w') as f_out:\n",
    "    for i, w in enumerate(model.wv.index2word):\n",
    "        if i % 10000 == 0:\n",
    "            pickle.dump(concept_feature_dict, open(concept_feature_bin_path, 'wb'))\n",
    "        if re_concept_tagged.match(w):\n",
    "            concept_feature_dict[w] = computeFeatures(w, model)\n",
    "            f_out.write('%s\\t%s\\n' % (to_concept_natural(w), concept_feature_dict[w]))"
   ]
  }
 ],
 "metadata": {
  "kernelspec": {
   "display_name": "se",
   "language": "python",
   "name": "se"
  },
  "language_info": {
   "codemirror_mode": {
    "name": "ipython",
    "version": 3
   },
   "file_extension": ".py",
   "mimetype": "text/x-python",
   "name": "python",
   "nbconvert_exporter": "python",
   "pygments_lexer": "ipython3",
   "version": "3.8.5"
  }
 },
 "nbformat": 4,
 "nbformat_minor": 4
}
