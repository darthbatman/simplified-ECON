{
 "cells": [
  {
   "cell_type": "code",
   "execution_count": 1,
   "metadata": {},
   "outputs": [],
   "source": [
    "from gensim.models import Word2Vec\n",
    "import re"
   ]
  },
  {
   "cell_type": "code",
   "execution_count": 2,
   "metadata": {},
   "outputs": [],
   "source": [
    "data_dir = 'data'\n",
    "input_file_name = 'arxiv_abstracts_10000.txt'\n",
    "extensionless_input_file_name = input_file_name.split('.')[0]\n",
    "input_file_path = f'{data_dir}/{input_file_name}'\n",
    "\n",
    "model_save_path = f'{data_dir}/{extensionless_input_file_name}_embedding.bin'\n",
    "autophrase_raw_path = f'{data_dir}/{extensionless_input_file_name}_autophrase_raw.txt'\n",
    "autophrase_nps_path = f'{data_dir}/{extensionless_input_file_name}_autophrase_nps.txt'\n",
    "econ_path = f'{data_dir}/{extensionless_input_file_name}_concept_representation.txt'"
   ]
  },
  {
   "cell_type": "code",
   "execution_count": 3,
   "metadata": {},
   "outputs": [],
   "source": [
    "with open(autophrase_raw_path, 'r') as f:\n",
    "    autophrase_raw_concepts = f.read().split('\\n')[:-1]\n",
    "    f.close()"
   ]
  },
  {
   "cell_type": "code",
   "execution_count": 4,
   "metadata": {},
   "outputs": [
    {
     "data": {
      "text/plain": [
       "32757"
      ]
     },
     "execution_count": 4,
     "metadata": {},
     "output_type": "execute_result"
    }
   ],
   "source": [
    "len(autophrase_raw_concepts)"
   ]
  },
  {
   "cell_type": "code",
   "execution_count": 5,
   "metadata": {},
   "outputs": [],
   "source": [
    "with open(autophrase_nps_path, 'r') as f:\n",
    "    autophrase_nps_concepts = f.read().split('\\n')[:-1]\n",
    "    f.close()"
   ]
  },
  {
   "cell_type": "code",
   "execution_count": 6,
   "metadata": {},
   "outputs": [
    {
     "data": {
      "text/plain": [
       "4413"
      ]
     },
     "execution_count": 6,
     "metadata": {},
     "output_type": "execute_result"
    }
   ],
   "source": [
    "len(autophrase_nps_concepts)"
   ]
  },
  {
   "cell_type": "code",
   "execution_count": 7,
   "metadata": {},
   "outputs": [],
   "source": [
    "re_concept_tagged = re.compile(\n",
    "    r\"<c>(?P<phrase>[^<]*)</c>\"\n",
    ")"
   ]
  },
  {
   "cell_type": "code",
   "execution_count": 8,
   "metadata": {},
   "outputs": [],
   "source": [
    "model = Word2Vec.load(model_save_path)\n",
    "econ_concepts = [w.replace('_', ' ')[3:-4] for w in model.wv.index2word if re_concept_tagged.match(w)]"
   ]
  },
  {
   "cell_type": "code",
   "execution_count": 9,
   "metadata": {},
   "outputs": [
    {
     "data": {
      "text/plain": [
       "4473"
      ]
     },
     "execution_count": 9,
     "metadata": {},
     "output_type": "execute_result"
    }
   ],
   "source": [
    "len(econ_concepts)"
   ]
  },
  {
   "cell_type": "code",
   "execution_count": 13,
   "metadata": {},
   "outputs": [
    {
     "data": {
      "text/plain": [
       "{'a long standing',\n",
       " 'ability to capture',\n",
       " 'ability to learn',\n",
       " 'accuracy and computational',\n",
       " 'and vice versa',\n",
       " 'based method',\n",
       " 'based optimization',\n",
       " 'based regularization',\n",
       " 'bayes classifier',\n",
       " 'challenging problem',\n",
       " 'classification algorithm',\n",
       " 'classification loss',\n",
       " 'classification methods',\n",
       " 'classification models',\n",
       " 'classification regression',\n",
       " 'classification techniques',\n",
       " 'clustering approach',\n",
       " 'cnn models',\n",
       " 'complex models',\n",
       " 'complex valued',\n",
       " 'computational performance',\n",
       " 'computer aided',\n",
       " 'computer vision and machine learning',\n",
       " 'connected layers',\n",
       " 'connectionist temporal classification',\n",
       " 'convex problems',\n",
       " 'curriculum learning',\n",
       " 'data clustering',\n",
       " 'data efficient',\n",
       " 'deep linear',\n",
       " 'deep model',\n",
       " 'deep recurrent neural network',\n",
       " 'deterministic policy',\n",
       " 'difficult to train',\n",
       " 'dimensional representation',\n",
       " 'each data point',\n",
       " 'efficient online',\n",
       " 'ensemble approach',\n",
       " 'general classification',\n",
       " 'generative framework',\n",
       " 'graphical models',\n",
       " 'image data',\n",
       " 'jointly learning',\n",
       " 'k svd',\n",
       " 'large data',\n",
       " 'learning dynamics',\n",
       " 'learning objective',\n",
       " 'learning parameters',\n",
       " 'learning process',\n",
       " 'learning representations',\n",
       " 'learning strategy',\n",
       " 'learning systems',\n",
       " 'learning task',\n",
       " 'linear activation',\n",
       " 'linear classification',\n",
       " 'low dimensional representations',\n",
       " 'low noise',\n",
       " 'machine learning models',\n",
       " 'models including',\n",
       " 'non convex optimization',\n",
       " 'non invasive',\n",
       " 'non trivial',\n",
       " 'number of iterations',\n",
       " 'number of model parameters',\n",
       " 'number of training samples',\n",
       " 'patient data',\n",
       " 'pca based',\n",
       " 'prediction methods',\n",
       " 'prediction results',\n",
       " 'problems in machine learning',\n",
       " 'proposed algorithm',\n",
       " 'publicly available datasets',\n",
       " 'real life data',\n",
       " 'recently achieved',\n",
       " 'regression and classification',\n",
       " 'representations of words',\n",
       " 'score based',\n",
       " 'search algorithms',\n",
       " 'selection algorithm',\n",
       " 'selection methods',\n",
       " 'similarity learning',\n",
       " 'simple and effective',\n",
       " 'simulated and real world data',\n",
       " 'specific knowledge',\n",
       " 'specific task',\n",
       " 'standard classification',\n",
       " 'structured learning',\n",
       " 'supervised approaches',\n",
       " 'synthetic and real world datasets',\n",
       " 'task performance',\n",
       " 'temporal data',\n",
       " 'the paper presents',\n",
       " 'trained model',\n",
       " 'trained models',\n",
       " 'training distribution',\n",
       " 'vector representations'}"
      ]
     },
     "execution_count": 13,
     "metadata": {},
     "output_type": "execute_result"
    }
   ],
   "source": [
    "set(econ_concepts) - set(autophrase_nps_concepts)"
   ]
  },
  {
   "cell_type": "code",
   "execution_count": 14,
   "metadata": {},
   "outputs": [
    {
     "data": {
      "text/plain": [
       "{'100 000',\n",
       " 'action classification',\n",
       " 'annotated training',\n",
       " 'approach combines',\n",
       " 'bf x',\n",
       " 'cnns trained',\n",
       " 'dynamic bayesian',\n",
       " 'efficient solutions',\n",
       " 'ell 2 norm',\n",
       " 'framework outperforms',\n",
       " 'function estimation',\n",
       " 'global information',\n",
       " 'handle large',\n",
       " 'high computational',\n",
       " 'improve accuracy',\n",
       " 'inductive learning',\n",
       " 'input distribution',\n",
       " 'mathcal f',\n",
       " 'next frame',\n",
       " 'noise regime',\n",
       " 'norm based',\n",
       " 'o log',\n",
       " 'optimal performance',\n",
       " 'pre specified',\n",
       " 'proposed method achieves',\n",
       " 'provide insights',\n",
       " 'publicly available',\n",
       " 'recommender system',\n",
       " 'renewed interest',\n",
       " 'second order statistics',\n",
       " 'singular value',\n",
       " 'sparse gaussian',\n",
       " 'structured sparse',\n",
       " 'top down',\n",
       " 'traditional machine learning',\n",
       " 'training images'}"
      ]
     },
     "execution_count": 14,
     "metadata": {},
     "output_type": "execute_result"
    }
   ],
   "source": [
    "set(autophrase_nps_concepts) - set(econ_concepts)"
   ]
  }
 ],
 "metadata": {
  "kernelspec": {
   "display_name": "se",
   "language": "python",
   "name": "se"
  },
  "language_info": {
   "codemirror_mode": {
    "name": "ipython",
    "version": 3
   },
   "file_extension": ".py",
   "mimetype": "text/x-python",
   "name": "python",
   "nbconvert_exporter": "python",
   "pygments_lexer": "ipython3",
   "version": "3.8.5"
  }
 },
 "nbformat": 4,
 "nbformat_minor": 4
}
